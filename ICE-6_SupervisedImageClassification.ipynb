{
 "cells": [
  {
   "cell_type": "markdown",
   "metadata": {
    "id": "y7jcr3j99d6v"
   },
   "source": [
    "# Task 1: Run the code with given dataset."
   ]
  },
  {
   "cell_type": "code",
   "execution_count": null,
   "metadata": {
    "colab": {
     "base_uri": "https://localhost:8080/"
    },
    "executionInfo": {
     "elapsed": 701,
     "status": "ok",
     "timestamp": 1668880236378,
     "user": {
      "displayName": "Samir Tarda",
      "userId": "11646668735280082088"
     },
     "user_tz": 360
    },
    "id": "AxQMA_qCjo8G",
    "outputId": "bcf8eabc-e10f-4850-cc3c-feb373badbef"
   },
   "outputs": [
    {
     "name": "stdout",
     "output_type": "stream",
     "text": [
      "Drive already mounted at /content/drive; to attempt to forcibly remount, call drive.mount(\"/content/drive\", force_remount=True).\n"
     ]
    }
   ],
   "source": [
    "from google.colab import drive\n",
    "drive.mount('/content/drive')"
   ]
  },
  {
   "cell_type": "code",
   "execution_count": null,
   "metadata": {
    "id": "r0vfuWe1j81C"
   },
   "outputs": [],
   "source": [
    "import matplotlib.pyplot as plt\n",
    "import seaborn as sns\n",
    "\n",
    "import keras\n",
    "from keras.models import Sequential\n",
    "from keras.layers import Dense, Conv2D , MaxPool2D , Flatten , Dropout \n",
    "from keras.preprocessing.image import ImageDataGenerator\n",
    "from keras.optimizers import Adam\n",
    "\n",
    "from sklearn.metrics import classification_report,confusion_matrix\n",
    "\n",
    "import tensorflow as tf\n",
    "\n",
    "import cv2\n",
    "import os\n",
    "\n",
    "import numpy as np\n",
    "\n"
   ]
  },
  {
   "cell_type": "code",
   "execution_count": null,
   "metadata": {
    "id": "F_oTYym_j-7_"
   },
   "outputs": [],
   "source": [
    "labels = ['rugby', 'soccer']\n",
    "img_size = 224\n",
    "def get_data(data_dir):\n",
    "    data = [] \n",
    "    for label in labels: \n",
    "        path = os.path.join(data_dir, label)\n",
    "        class_num = labels.index(label)\n",
    "        for img in os.listdir(path):\n",
    "            try:\n",
    "                img_arr = cv2.imread(os.path.join(path, img))[...,::-1] #convert BGR to RGB format\n",
    "                resized_arr = cv2.resize(img_arr, (img_size, img_size)) # Reshaping images to preferred size\n",
    "                data.append([resized_arr, class_num])\n",
    "            except Exception as e:\n",
    "                print(e)\n",
    "    return np.array(data)"
   ]
  },
  {
   "cell_type": "code",
   "execution_count": null,
   "metadata": {
    "colab": {
     "base_uri": "https://localhost:8080/"
    },
    "executionInfo": {
     "elapsed": 145350,
     "status": "ok",
     "timestamp": 1668875788963,
     "user": {
      "displayName": "Samir Tarda",
      "userId": "11646668735280082088"
     },
     "user_tz": 360
    },
    "id": "MDpavmDykKhB",
    "outputId": "11a0309e-fcf2-4257-cb8e-98cc5f2cd37e"
   },
   "outputs": [
    {
     "name": "stderr",
     "output_type": "stream",
     "text": [
      "/usr/local/lib/python3.7/dist-packages/ipykernel_launcher.py:15: VisibleDeprecationWarning: Creating an ndarray from ragged nested sequences (which is a list-or-tuple of lists-or-tuples-or ndarrays with different lengths or shapes) is deprecated. If you meant to do this, you must specify 'dtype=object' when creating the ndarray.\n",
      "  from ipykernel import kernelapp as app\n"
     ]
    }
   ],
   "source": [
    "# Now we can easily fetch our train and validation data.\n",
    "train = get_data('/content/drive/MyDrive/ICE Projects/ICE 6/input/input/train')\n",
    "val = get_data('/content/drive/MyDrive/ICE Projects/ICE 6/input/input/test')\n",
    " "
   ]
  },
  {
   "cell_type": "code",
   "execution_count": null,
   "metadata": {
    "id": "54LAQk64kLQc"
   },
   "outputs": [],
   "source": [
    "x_train = []\n",
    "y_train = []\n",
    "x_val = []\n",
    "y_val = []\n",
    "\n",
    "for feature, label in train:\n",
    "  x_train.append(feature)\n",
    "  y_train.append(label)\n",
    "\n",
    "for feature, label in val:\n",
    "  x_val.append(feature)\n",
    "  y_val.append(label)\n",
    "\n",
    "# Normalize the data\n",
    "x_train = np.array(x_train) / 255\n",
    "x_val = np.array(x_val) / 255\n",
    "\n",
    "x_train.reshape(-1, img_size, img_size, 1)\n",
    "y_train = np.array(y_train)\n",
    "\n",
    "x_val.reshape(-1, img_size, img_size, 1)\n",
    "y_val = np.array(y_val)\n"
   ]
  },
  {
   "cell_type": "code",
   "execution_count": null,
   "metadata": {
    "id": "7G6AYuLzkUPG"
   },
   "outputs": [],
   "source": [
    "datagen = ImageDataGenerator(\n",
    "        featurewise_center=False,  # set input mean to 0 over the dataset\n",
    "        samplewise_center=False,  # set each sample mean to 0\n",
    "        featurewise_std_normalization=False,  # divide inputs by std of the dataset\n",
    "        samplewise_std_normalization=False,  # divide each input by its std\n",
    "        zca_whitening=False,  # apply ZCA whitening\n",
    "        rotation_range = 30,  # randomly rotate images in the range (degrees, 0 to 180)\n",
    "        zoom_range = 0.2, # Randomly zoom image \n",
    "        width_shift_range=0.1,  # randomly shift images horizontally (fraction of total width)\n",
    "        height_shift_range=0.1,  # randomly shift images vertically (fraction of total height)\n",
    "        horizontal_flip = True,  # randomly flip images\n",
    "        vertical_flip=False)  # randomly flip images\n",
    "\n",
    "\n",
    "datagen.fit(x_train)"
   ]
  },
  {
   "cell_type": "code",
   "execution_count": null,
   "metadata": {
    "colab": {
     "base_uri": "https://localhost:8080/"
    },
    "executionInfo": {
     "elapsed": 284,
     "status": "ok",
     "timestamp": 1668877132662,
     "user": {
      "displayName": "Samir Tarda",
      "userId": "11646668735280082088"
     },
     "user_tz": 360
    },
    "id": "8Cyg1LxQkYqZ",
    "outputId": "0694f4e2-fbab-4e18-dfa4-7ee046a7c56d"
   },
   "outputs": [
    {
     "name": "stdout",
     "output_type": "stream",
     "text": [
      "Model: \"sequential_1\"\n",
      "_________________________________________________________________\n",
      " Layer (type)                Output Shape              Param #   \n",
      "=================================================================\n",
      " conv2d_3 (Conv2D)           (None, 224, 224, 32)      896       \n",
      "                                                                 \n",
      " max_pooling2d_3 (MaxPooling  (None, 112, 112, 32)     0         \n",
      " 2D)                                                             \n",
      "                                                                 \n",
      " conv2d_4 (Conv2D)           (None, 112, 112, 32)      9248      \n",
      "                                                                 \n",
      " max_pooling2d_4 (MaxPooling  (None, 56, 56, 32)       0         \n",
      " 2D)                                                             \n",
      "                                                                 \n",
      " conv2d_5 (Conv2D)           (None, 56, 56, 64)        18496     \n",
      "                                                                 \n",
      " max_pooling2d_5 (MaxPooling  (None, 28, 28, 64)       0         \n",
      " 2D)                                                             \n",
      "                                                                 \n",
      " dropout_1 (Dropout)         (None, 28, 28, 64)        0         \n",
      "                                                                 \n",
      " flatten_1 (Flatten)         (None, 50176)             0         \n",
      "                                                                 \n",
      " dense_2 (Dense)             (None, 128)               6422656   \n",
      "                                                                 \n",
      " dense_3 (Dense)             (None, 2)                 258       \n",
      "                                                                 \n",
      "=================================================================\n",
      "Total params: 6,451,554\n",
      "Trainable params: 6,451,554\n",
      "Non-trainable params: 0\n",
      "_________________________________________________________________\n"
     ]
    }
   ],
   "source": [
    "model = Sequential()\n",
    "model.add(Conv2D(32,3,padding=\"same\", activation=\"relu\", input_shape=(224,224,3)))\n",
    "model.add(MaxPool2D())\n",
    "\n",
    "model.add(Conv2D(32, 3, padding=\"same\", activation=\"relu\"))\n",
    "model.add(MaxPool2D())\n",
    "\n",
    "model.add(Conv2D(64, 3, padding=\"same\", activation=\"relu\"))\n",
    "model.add(MaxPool2D())\n",
    "model.add(Dropout(0.4))\n",
    "\n",
    "model.add(Flatten())\n",
    "model.add(Dense(128,activation=\"relu\"))\n",
    "model.add(Dense(2, activation=\"softmax\"))\n",
    "\n",
    "model.summary()"
   ]
  },
  {
   "cell_type": "code",
   "execution_count": null,
   "metadata": {
    "id": "8NIBzYwikakj"
   },
   "outputs": [],
   "source": [
    "opt = Adam(learning_rate=0.000001)\n",
    "model.compile(optimizer = opt , loss = tf.keras.losses.SparseCategoricalCrossentropy(from_logits=True) , metrics = ['accuracy'])\n"
   ]
  },
  {
   "cell_type": "code",
   "execution_count": null,
   "metadata": {
    "colab": {
     "base_uri": "https://localhost:8080/"
    },
    "executionInfo": {
     "elapsed": 923575,
     "status": "ok",
     "timestamp": 1668876807945,
     "user": {
      "displayName": "Samir Tarda",
      "userId": "11646668735280082088"
     },
     "user_tz": 360
    },
    "id": "SRk8AXkQkeef",
    "outputId": "9f400bd1-8f6d-4bcd-aa5d-96d1f2657f13"
   },
   "outputs": [
    {
     "name": "stdout",
     "output_type": "stream",
     "text": [
      "Epoch 1/5\n"
     ]
    },
    {
     "name": "stderr",
     "output_type": "stream",
     "text": [
      "/usr/local/lib/python3.7/dist-packages/tensorflow/python/util/dispatch.py:1082: UserWarning: \"`sparse_categorical_crossentropy` received `from_logits=True`, but the `output` argument was produced by a sigmoid or softmax activation and thus does not represent logits. Was this intended?\"\n",
      "  return dispatch_target(*args, **kwargs)\n"
     ]
    },
    {
     "name": "stdout",
     "output_type": "stream",
     "text": [
      "77/77 [==============================] - 178s 2s/step - loss: 0.6960 - accuracy: 0.4947 - val_loss: 0.6882 - val_accuracy: 0.6230\n",
      "Epoch 2/5\n",
      "77/77 [==============================] - 180s 2s/step - loss: 0.6923 - accuracy: 0.5229 - val_loss: 0.6845 - val_accuracy: 0.6508\n",
      "Epoch 3/5\n",
      "77/77 [==============================] - 182s 2s/step - loss: 0.6892 - accuracy: 0.5408 - val_loss: 0.6807 - val_accuracy: 0.6721\n",
      "Epoch 4/5\n",
      "77/77 [==============================] - 182s 2s/step - loss: 0.6854 - accuracy: 0.5727 - val_loss: 0.6767 - val_accuracy: 0.6820\n",
      "Epoch 5/5\n",
      "77/77 [==============================] - 179s 2s/step - loss: 0.6849 - accuracy: 0.5699 - val_loss: 0.6726 - val_accuracy: 0.7000\n"
     ]
    }
   ],
   "source": [
    "history = model.fit(x_train,y_train,epochs = 5 , validation_data = (x_val, y_val))"
   ]
  },
  {
   "cell_type": "code",
   "execution_count": null,
   "metadata": {
    "colab": {
     "base_uri": "https://localhost:8080/",
     "height": 455
    },
    "executionInfo": {
     "elapsed": 547,
     "status": "ok",
     "timestamp": 1668876817626,
     "user": {
      "displayName": "Samir Tarda",
      "userId": "11646668735280082088"
     },
     "user_tz": 360
    },
    "id": "04-LTzNWkjHQ",
    "outputId": "19bde47b-7dd0-4223-9141-92b85558b0e2"
   },
   "outputs": [
    {
     "data": {
      "image/png": "[encoded data removed]",
      "text/plain": [
       "<Figure size 1080x1080 with 2 Axes>"
      ]
     },
     "metadata": {
      "needs_background": "light"
     },
     "output_type": "display_data"
    }
   ],
   "source": [
    "acc = history.history['accuracy']\n",
    "val_acc = history.history['val_accuracy']\n",
    "loss = history.history['loss']\n",
    "val_loss = history.history['val_loss']\n",
    "\n",
    "epochs_range = range(5)\n",
    "\n",
    "plt.figure(figsize=(15, 15))\n",
    "plt.subplot(2, 2, 1)\n",
    "plt.plot(epochs_range, acc, label='Training Accuracy')\n",
    "plt.plot(epochs_range, val_acc, label='Validation Accuracy')\n",
    "plt.legend(loc='lower right')\n",
    "plt.title('Training and Validation Accuracy')\n",
    "\n",
    "plt.subplot(2, 2, 2)\n",
    "plt.plot(epochs_range, loss, label='Training Loss')\n",
    "plt.plot(epochs_range, val_loss, label='Validation Loss')\n",
    "plt.legend(loc='upper right')\n",
    "plt.title('Training and Validation Loss')\n",
    "plt.show()"
   ]
  },
  {
   "cell_type": "code",
   "execution_count": null,
   "metadata": {
    "colab": {
     "base_uri": "https://localhost:8080/"
    },
    "executionInfo": {
     "elapsed": 135,
     "status": "ok",
     "timestamp": 1668877141399,
     "user": {
      "displayName": "Samir Tarda",
      "userId": "11646668735280082088"
     },
     "user_tz": 360
    },
    "id": "ubuTGJKDz6oM",
    "outputId": "b2d32235-9d3f-40d4-84ab-170201d8404c"
   },
   "outputs": [
    {
     "data": {
      "text/plain": [
       "(610, 224, 224, 3)"
      ]
     },
     "execution_count": 23,
     "metadata": {},
     "output_type": "execute_result"
    }
   ],
   "source": [
    "x_val.shape"
   ]
  },
  {
   "cell_type": "code",
   "execution_count": null,
   "metadata": {
    "colab": {
     "base_uri": "https://localhost:8080/"
    },
    "executionInfo": {
     "elapsed": 20881,
     "status": "ok",
     "timestamp": 1668877588614,
     "user": {
      "displayName": "Samir Tarda",
      "userId": "11646668735280082088"
     },
     "user_tz": 360
    },
    "id": "fkwkIgmz2M9t",
    "outputId": "e6398e13-f951-46d8-e410-0e976cc5b7e8"
   },
   "outputs": [
    {
     "name": "stdout",
     "output_type": "stream",
     "text": [
      "20/20 [==============================] - 12s 577ms/step\n",
      "[0.48 0.52 0.5  ... 0.52 0.5  0.5 ]\n"
     ]
    }
   ],
   "source": [
    "predictions = model.predict(x_val)\n",
    "predictions = predictions.flatten()\n",
    "print(predictions.round(2))"
   ]
  },
  {
   "cell_type": "code",
   "execution_count": null,
   "metadata": {
    "colab": {
     "base_uri": "https://localhost:8080/"
    },
    "executionInfo": {
     "elapsed": 107,
     "status": "ok",
     "timestamp": 1668877639756,
     "user": {
      "displayName": "Samir Tarda",
      "userId": "11646668735280082088"
     },
     "user_tz": 360
    },
    "id": "3LWt3No92zY3",
    "outputId": "0cf69f1e-76d8-4da5-e8f8-0c90d7b2356c"
   },
   "outputs": [
    {
     "name": "stdout",
     "output_type": "stream",
     "text": [
      "[0 1 1 ... 1 0 1]\n"
     ]
    }
   ],
   "source": [
    "# extract the predicted class labels\n",
    "y_val = np.where(predictions > 0.5, 1, 0)\n",
    "print(y_val)"
   ]
  },
  {
   "cell_type": "code",
   "execution_count": null,
   "metadata": {
    "colab": {
     "base_uri": "https://localhost:8080/"
    },
    "executionInfo": {
     "elapsed": 130,
     "status": "ok",
     "timestamp": 1668877988007,
     "user": {
      "displayName": "Samir Tarda",
      "userId": "11646668735280082088"
     },
     "user_tz": 360
    },
    "id": "7sxdu_oO2_bK",
    "outputId": "670174a2-08e4-4cd1-eb54-3c50cd1ef398"
   },
   "outputs": [
    {
     "name": "stdout",
     "output_type": "stream",
     "text": [
      "[[610   0]\n",
      " [  0 610]]\n"
     ]
    }
   ],
   "source": [
    "predictions = np.array(y_val)\n",
    "print(confusion_matrix(y_val, predictions))"
   ]
  },
  {
   "cell_type": "code",
   "execution_count": null,
   "metadata": {
    "colab": {
     "base_uri": "https://localhost:8080/"
    },
    "executionInfo": {
     "elapsed": 119,
     "status": "ok",
     "timestamp": 1668878010254,
     "user": {
      "displayName": "Samir Tarda",
      "userId": "11646668735280082088"
     },
     "user_tz": 360
    },
    "id": "4pdKWEKr4VOJ",
    "outputId": "f9be0b9d-a794-48a2-84fd-8ef483e4d720"
   },
   "outputs": [
    {
     "name": "stdout",
     "output_type": "stream",
     "text": [
      "              precision    recall  f1-score   support\n",
      "\n",
      "           0       1.00      1.00      1.00       610\n",
      "           1       1.00      1.00      1.00       610\n",
      "\n",
      "    accuracy                           1.00      1220\n",
      "   macro avg       1.00      1.00      1.00      1220\n",
      "weighted avg       1.00      1.00      1.00      1220\n",
      "\n"
     ]
    }
   ],
   "source": [
    "print(classification_report(y_val, predictions))"
   ]
  },
  {
   "cell_type": "markdown",
   "metadata": {
    "id": "JChNUzQpARkB"
   },
   "source": [
    "# Task 2: Run the code with different dataset"
   ]
  },
  {
   "cell_type": "markdown",
   "metadata": {
    "id": "M9lhLHr4AG3J"
   },
   "source": [
    "#### - For this task, I am using a data file that consists of images for two classes: concerts and ceremonies. \n",
    "#####     - Data has been split into 80% for training and 20% for validation.\n",
    "#####     - Train folder: contains 240 images (120 images for each class)\n",
    "#####     - Test folder: contains 120 images (60 images for each class)"
   ]
  },
  {
   "cell_type": "code",
   "execution_count": null,
   "metadata": {
    "id": "4NJArFkFAS_v"
   },
   "outputs": [],
   "source": [
    "import matplotlib.pyplot as plt\n",
    "import seaborn as sns\n",
    "\n",
    "import keras\n",
    "from keras.models import Sequential\n",
    "from keras.layers import Dense, Conv2D , MaxPool2D , Flatten , Dropout \n",
    "from keras.preprocessing.image import ImageDataGenerator\n",
    "from keras.optimizers import Adam\n",
    "\n",
    "from sklearn.metrics import classification_report,confusion_matrix\n",
    "\n",
    "import tensorflow as tf\n",
    "\n",
    "import cv2\n",
    "import os\n",
    "\n",
    "import numpy as np\n"
   ]
  },
  {
   "cell_type": "code",
   "execution_count": null,
   "metadata": {
    "id": "fJJdN9iVAYY3"
   },
   "outputs": [],
   "source": [
    "labels = ['ceremony', 'concert']\n",
    "img_size = 224\n",
    "def get_data(data_dir):\n",
    "    data = [] \n",
    "    for label in labels: \n",
    "        path = os.path.join(data_dir, label)\n",
    "        class_num = labels.index(label)\n",
    "        for img in os.listdir(path):\n",
    "            try:\n",
    "                img_arr = cv2.imread(os.path.join(path, img))[...,::-1] #convert BGR to RGB format\n",
    "                resized_arr = cv2.resize(img_arr, (img_size, img_size)) # Reshaping images to preferred size\n",
    "                data.append([resized_arr, class_num])\n",
    "            except Exception as e:\n",
    "                print(e)\n",
    "    return np.array(data)"
   ]
  },
  {
   "cell_type": "code",
   "execution_count": null,
   "metadata": {
    "colab": {
     "base_uri": "https://localhost:8080/"
    },
    "executionInfo": {
     "elapsed": 30604,
     "status": "ok",
     "timestamp": 1668880320648,
     "user": {
      "displayName": "Samir Tarda",
      "userId": "11646668735280082088"
     },
     "user_tz": 360
    },
    "id": "mz1WQRdvAdWR",
    "outputId": "3c4fc4ff-b14b-436f-cb74-b58f2b986c42"
   },
   "outputs": [
    {
     "name": "stderr",
     "output_type": "stream",
     "text": [
      "/usr/local/lib/python3.7/dist-packages/ipykernel_launcher.py:15: VisibleDeprecationWarning: Creating an ndarray from ragged nested sequences (which is a list-or-tuple of lists-or-tuples-or ndarrays with different lengths or shapes) is deprecated. If you meant to do this, you must specify 'dtype=object' when creating the ndarray.\n",
      "  from ipykernel import kernelapp as app\n"
     ]
    }
   ],
   "source": [
    "train = get_data('/content/drive/MyDrive/ICE Projects/ICE 6/train')\n",
    "val = get_data('/content/drive/MyDrive/ICE Projects/ICE 6/test')"
   ]
  },
  {
   "cell_type": "code",
   "execution_count": null,
   "metadata": {
    "id": "QVTqjxIzBNyn"
   },
   "outputs": [],
   "source": [
    "x_train = []\n",
    "y_train = []\n",
    "x_val = []\n",
    "y_val = []\n",
    "\n",
    "for feature, label in train:\n",
    "  x_train.append(feature)\n",
    "  y_train.append(label)\n",
    "\n",
    "for feature, label in val:\n",
    "  x_val.append(feature)\n",
    "  y_val.append(label)\n",
    "\n",
    "# Normalize the data\n",
    "x_train = np.array(x_train) / 255\n",
    "x_val = np.array(x_val) / 255\n",
    "\n",
    "x_train.reshape(-1, img_size, img_size, 1)\n",
    "y_train = np.array(y_train)\n",
    "\n",
    "x_val.reshape(-1, img_size, img_size, 1)\n",
    "y_val = np.array(y_val)"
   ]
  },
  {
   "cell_type": "code",
   "execution_count": null,
   "metadata": {
    "colab": {
     "base_uri": "https://localhost:8080/"
    },
    "executionInfo": {
     "elapsed": 2,
     "status": "ok",
     "timestamp": 1668880455210,
     "user": {
      "displayName": "Samir Tarda",
      "userId": "11646668735280082088"
     },
     "user_tz": 360
    },
    "id": "uS0c2twWBjQn",
    "outputId": "7f88f21e-98ed-4066-bc17-faba086ea77f"
   },
   "outputs": [
    {
     "data": {
      "text/plain": [
       "((240, 224, 224, 3), (240,))"
      ]
     },
     "execution_count": 52,
     "metadata": {},
     "output_type": "execute_result"
    }
   ],
   "source": [
    "x_train.shape, y_train.shape"
   ]
  },
  {
   "cell_type": "code",
   "execution_count": null,
   "metadata": {
    "id": "IN130E_XBSjp"
   },
   "outputs": [],
   "source": [
    "datagen = ImageDataGenerator(\n",
    "        featurewise_center=False,  # set input mean to 0 over the dataset\n",
    "        samplewise_center=False,  # set each sample mean to 0\n",
    "        featurewise_std_normalization=False,  # divide inputs by std of the dataset\n",
    "        samplewise_std_normalization=False,  # divide each input by its std\n",
    "        zca_whitening=False,  # apply ZCA whitening\n",
    "        rotation_range = 30,  # randomly rotate images in the range (degrees, 0 to 180)\n",
    "        zoom_range = 0.2, # Randomly zoom image \n",
    "        width_shift_range=0.1,  # randomly shift images horizontally (fraction of total width)\n",
    "        height_shift_range=0.1,  # randomly shift images vertically (fraction of total height)\n",
    "        horizontal_flip = True,  # randomly flip images\n",
    "        vertical_flip=False)  # randomly flip images\n",
    "\n",
    "\n",
    "datagen.fit(x_train)"
   ]
  },
  {
   "cell_type": "code",
   "execution_count": null,
   "metadata": {
    "colab": {
     "base_uri": "https://localhost:8080/"
    },
    "executionInfo": {
     "elapsed": 495,
     "status": "ok",
     "timestamp": 1668880368933,
     "user": {
      "displayName": "Samir Tarda",
      "userId": "11646668735280082088"
     },
     "user_tz": 360
    },
    "id": "q9-mpaKkBXlf",
    "outputId": "337d8e64-4119-4a70-e3ab-c8f790088a01"
   },
   "outputs": [
    {
     "name": "stdout",
     "output_type": "stream",
     "text": [
      "Model: \"sequential_2\"\n",
      "_________________________________________________________________\n",
      " Layer (type)                Output Shape              Param #   \n",
      "=================================================================\n",
      " conv2d_6 (Conv2D)           (None, 224, 224, 32)      896       \n",
      "                                                                 \n",
      " max_pooling2d_6 (MaxPooling  (None, 112, 112, 32)     0         \n",
      " 2D)                                                             \n",
      "                                                                 \n",
      " conv2d_7 (Conv2D)           (None, 112, 112, 32)      9248      \n",
      "                                                                 \n",
      " max_pooling2d_7 (MaxPooling  (None, 56, 56, 32)       0         \n",
      " 2D)                                                             \n",
      "                                                                 \n",
      " conv2d_8 (Conv2D)           (None, 56, 56, 64)        18496     \n",
      "                                                                 \n",
      " max_pooling2d_8 (MaxPooling  (None, 28, 28, 64)       0         \n",
      " 2D)                                                             \n",
      "                                                                 \n",
      " dropout_2 (Dropout)         (None, 28, 28, 64)        0         \n",
      "                                                                 \n",
      " flatten_2 (Flatten)         (None, 50176)             0         \n",
      "                                                                 \n",
      " dense_4 (Dense)             (None, 128)               6422656   \n",
      "                                                                 \n",
      " dense_5 (Dense)             (None, 2)                 258       \n",
      "                                                                 \n",
      "=================================================================\n",
      "Total params: 6,451,554\n",
      "Trainable params: 6,451,554\n",
      "Non-trainable params: 0\n",
      "_________________________________________________________________\n"
     ]
    }
   ],
   "source": [
    "model = Sequential()\n",
    "model.add(Conv2D(32,3,padding=\"same\", activation=\"relu\", input_shape=(224,224,3)))\n",
    "model.add(MaxPool2D())\n",
    "\n",
    "model.add(Conv2D(32, 3, padding=\"same\", activation=\"relu\"))\n",
    "model.add(MaxPool2D())\n",
    "\n",
    "model.add(Conv2D(64, 3, padding=\"same\", activation=\"relu\"))\n",
    "model.add(MaxPool2D())\n",
    "model.add(Dropout(0.4))\n",
    "\n",
    "model.add(Flatten())\n",
    "model.add(Dense(128,activation=\"relu\"))\n",
    "model.add(Dense(2, activation=\"softmax\"))\n",
    "\n",
    "model.summary()"
   ]
  },
  {
   "cell_type": "code",
   "execution_count": null,
   "metadata": {
    "id": "8IRunOUCBz22"
   },
   "outputs": [],
   "source": [
    "opt = Adam(learning_rate=0.000001)\n",
    "model.compile(optimizer = opt , loss = tf.keras.losses.SparseCategoricalCrossentropy(from_logits=True) , metrics = ['accuracy'])"
   ]
  },
  {
   "cell_type": "code",
   "execution_count": null,
   "metadata": {
    "colab": {
     "base_uri": "https://localhost:8080/"
    },
    "executionInfo": {
     "elapsed": 142872,
     "status": "ok",
     "timestamp": 1668880667171,
     "user": {
      "displayName": "Samir Tarda",
      "userId": "11646668735280082088"
     },
     "user_tz": 360
    },
    "id": "BeJ7JCn1B5XU",
    "outputId": "f51c15ce-33b4-47cc-9362-510e9d1edc38"
   },
   "outputs": [
    {
     "name": "stdout",
     "output_type": "stream",
     "text": [
      "Epoch 1/5\n"
     ]
    },
    {
     "name": "stderr",
     "output_type": "stream",
     "text": [
      "/usr/local/lib/python3.7/dist-packages/tensorflow/python/util/dispatch.py:1082: UserWarning: \"`sparse_categorical_crossentropy` received `from_logits=True`, but the `output` argument was produced by a sigmoid or softmax activation and thus does not represent logits. Was this intended?\"\n",
      "  return dispatch_target(*args, **kwargs)\n"
     ]
    },
    {
     "name": "stdout",
     "output_type": "stream",
     "text": [
      "8/8 [==============================] - 18s 2s/step - loss: 0.7016 - accuracy: 0.4917 - val_loss: 0.7060 - val_accuracy: 0.3500\n",
      "Epoch 2/5\n",
      "8/8 [==============================] - 19s 2s/step - loss: 0.6988 - accuracy: 0.4958 - val_loss: 0.7038 - val_accuracy: 0.4333\n",
      "Epoch 3/5\n",
      "8/8 [==============================] - 21s 2s/step - loss: 0.6901 - accuracy: 0.5458 - val_loss: 0.7029 - val_accuracy: 0.5000\n",
      "Epoch 4/5\n",
      "8/8 [==============================] - 17s 2s/step - loss: 0.6890 - accuracy: 0.5000 - val_loss: 0.7027 - val_accuracy: 0.4833\n",
      "Epoch 5/5\n",
      "8/8 [==============================] - 19s 2s/step - loss: 0.6914 - accuracy: 0.5417 - val_loss: 0.7028 - val_accuracy: 0.4833\n"
     ]
    }
   ],
   "source": [
    "history = model.fit(x_train,y_train,epochs = 5 , validation_data = (x_val, y_val))"
   ]
  },
  {
   "cell_type": "code",
   "execution_count": null,
   "metadata": {
    "colab": {
     "base_uri": "https://localhost:8080/",
     "height": 435
    },
    "executionInfo": {
     "elapsed": 565,
     "status": "ok",
     "timestamp": 1668880687590,
     "user": {
      "displayName": "Samir Tarda",
      "userId": "11646668735280082088"
     },
     "user_tz": 360
    },
    "id": "KhUqxSdeCEB5",
    "outputId": "8cc3dd8b-8807-4e2f-be38-3347551256d0"
   },
   "outputs": [
    {
     "data": {
      "image/png": "[encoded data removed]",
      "text/plain": [
       "<Figure size 1080x1080 with 2 Axes>"
      ]
     },
     "metadata": {
      "needs_background": "light"
     },
     "output_type": "display_data"
    }
   ],
   "source": [
    "acc = history.history['accuracy']\n",
    "val_acc = history.history['val_accuracy']\n",
    "loss = history.history['loss']\n",
    "val_loss = history.history['val_loss']\n",
    "\n",
    "epochs_range = range(5)\n",
    "\n",
    "plt.figure(figsize=(15, 15))\n",
    "plt.subplot(2, 2, 1)\n",
    "plt.plot(epochs_range, acc, label='Training Accuracy')\n",
    "plt.plot(epochs_range, val_acc, label='Validation Accuracy')\n",
    "plt.legend(loc='lower right')\n",
    "plt.title('Training and Validation Accuracy')\n",
    "\n",
    "plt.subplot(2, 2, 2)\n",
    "plt.plot(epochs_range, loss, label='Training Loss')\n",
    "plt.plot(epochs_range, val_loss, label='Validation Loss')\n",
    "plt.legend(loc='upper right')\n",
    "plt.title('Training and Validation Loss')\n",
    "plt.show()"
   ]
  },
  {
   "cell_type": "code",
   "execution_count": null,
   "metadata": {
    "colab": {
     "base_uri": "https://localhost:8080/"
    },
    "executionInfo": {
     "elapsed": 1233,
     "status": "ok",
     "timestamp": 1668880695509,
     "user": {
      "displayName": "Samir Tarda",
      "userId": "11646668735280082088"
     },
     "user_tz": 360
    },
    "id": "xcpH5A5PCbw9",
    "outputId": "d06cf29e-88e9-45fd-fae9-87b12b4709ff"
   },
   "outputs": [
    {
     "name": "stdout",
     "output_type": "stream",
     "text": [
      "2/2 [==============================] - 1s 462ms/step\n",
      "[0.54 0.46 0.52 0.48 0.57 0.43 0.53 0.47 0.53 0.47 0.54 0.46 0.56 0.44\n",
      " 0.54 0.46 0.51 0.49 0.56 0.44 0.55 0.45 0.56 0.44 0.54 0.46 0.53 0.47\n",
      " 0.51 0.49 0.47 0.53 0.53 0.47 0.55 0.45 0.54 0.46 0.56 0.44 0.52 0.48\n",
      " 0.55 0.45 0.53 0.47 0.54 0.46 0.55 0.45 0.51 0.49 0.53 0.47 0.56 0.44\n",
      " 0.56 0.44 0.54 0.46 0.51 0.49 0.58 0.42 0.55 0.45 0.54 0.46 0.55 0.45\n",
      " 0.56 0.44 0.56 0.44 0.55 0.45 0.53 0.47 0.53 0.47 0.57 0.43 0.53 0.47\n",
      " 0.53 0.47 0.53 0.47 0.53 0.47 0.54 0.46 0.53 0.47 0.55 0.45 0.54 0.46\n",
      " 0.55 0.45 0.54 0.46 0.55 0.45 0.52 0.48 0.57 0.43 0.55 0.45 0.56 0.44\n",
      " 0.56 0.44 0.55 0.45 0.54 0.46 0.53 0.47]\n"
     ]
    }
   ],
   "source": [
    "predictions = model.predict(x_val)\n",
    "predictions = predictions.flatten()\n",
    "print(predictions.round(2))"
   ]
  },
  {
   "cell_type": "code",
   "execution_count": null,
   "metadata": {
    "colab": {
     "base_uri": "https://localhost:8080/"
    },
    "executionInfo": {
     "elapsed": 112,
     "status": "ok",
     "timestamp": 1668880698242,
     "user": {
      "displayName": "Samir Tarda",
      "userId": "11646668735280082088"
     },
     "user_tz": 360
    },
    "id": "BdtQtRsFCexQ",
    "outputId": "8ba67e39-d7e4-4796-8edc-c83d2374e3e8"
   },
   "outputs": [
    {
     "name": "stdout",
     "output_type": "stream",
     "text": [
      "[1 0 1 0 1 0 1 0 1 0 1 0 1 0 1 0 1 0 1 0 1 0 1 0 1 0 1 0 1 0 0 1 1 0 1 0 1\n",
      " 0 1 0 1 0 1 0 1 0 1 0 1 0 1 0 1 0 1 0 1 0 1 0 1 0 1 0 1 0 1 0 1 0 1 0 1 0\n",
      " 1 0 1 0 1 0 1 0 1 0 1 0 1 0 1 0 1 0 1 0 1 0 1 0 1 0 1 0 1 0 1 0 1 0 1 0 1\n",
      " 0 1 0 1 0 1 0 1 0]\n"
     ]
    }
   ],
   "source": [
    "# extract the predicted class labels\n",
    "y_val = np.where(predictions > 0.5, 1, 0)\n",
    "print(y_val)"
   ]
  },
  {
   "cell_type": "code",
   "execution_count": null,
   "metadata": {
    "colab": {
     "base_uri": "https://localhost:8080/"
    },
    "executionInfo": {
     "elapsed": 125,
     "status": "ok",
     "timestamp": 1668880701108,
     "user": {
      "displayName": "Samir Tarda",
      "userId": "11646668735280082088"
     },
     "user_tz": 360
    },
    "id": "Nf2NUFnzCh0m",
    "outputId": "809a1093-bc7f-43f5-e986-c5c148f5ed02"
   },
   "outputs": [
    {
     "name": "stdout",
     "output_type": "stream",
     "text": [
      "[[60  0]\n",
      " [ 0 60]]\n"
     ]
    }
   ],
   "source": [
    "predictions = np.array(y_val)\n",
    "print(confusion_matrix(y_val, predictions))"
   ]
  },
  {
   "cell_type": "code",
   "execution_count": null,
   "metadata": {
    "colab": {
     "base_uri": "https://localhost:8080/"
    },
    "executionInfo": {
     "elapsed": 111,
     "status": "ok",
     "timestamp": 1668880702681,
     "user": {
      "displayName": "Samir Tarda",
      "userId": "11646668735280082088"
     },
     "user_tz": 360
    },
    "id": "USXJQ6aZClFr",
    "outputId": "9340e345-e520-4512-fc9e-28c6e15dfb13"
   },
   "outputs": [
    {
     "name": "stdout",
     "output_type": "stream",
     "text": [
      "              precision    recall  f1-score   support\n",
      "\n",
      "           0       1.00      1.00      1.00        60\n",
      "           1       1.00      1.00      1.00        60\n",
      "\n",
      "    accuracy                           1.00       120\n",
      "   macro avg       1.00      1.00      1.00       120\n",
      "weighted avg       1.00      1.00      1.00       120\n",
      "\n"
     ]
    }
   ],
   "source": [
    "print(classification_report(y_val, predictions))"
   ]
  }
 ],
 "metadata": {
  "colab": {
   "provenance": []
  },
  "kernelspec": {
   "display_name": "Python 3 (ipykernel)",
   "language": "python",
   "name": "python3"
  },
  "language_info": {
   "codemirror_mode": {
    "name": "ipython",
    "version": 3
   },
   "file_extension": ".py",
   "mimetype": "text/x-python",
   "name": "python",
   "nbconvert_exporter": "python",
   "pygments_lexer": "ipython3",
   "version": "3.10.8"
  }
 },
 "nbformat": 4,
 "nbformat_minor": 4
}
